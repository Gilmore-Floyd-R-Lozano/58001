{
  "nbformat": 4,
  "nbformat_minor": 0,
  "metadata": {
    "colab": {
      "provenance": [],
      "authorship_tag": "ABX9TyPDC1cqM3A24B5BxrkFIpfu",
      "include_colab_link": true
    },
    "kernelspec": {
      "name": "python3",
      "display_name": "Python 3"
    },
    "language_info": {
      "name": "python"
    }
  },
  "cells": [
    {
      "cell_type": "markdown",
      "metadata": {
        "id": "view-in-github",
        "colab_type": "text"
      },
      "source": [
        "<a href=\"https://colab.research.google.com/github/Gilmore-Floyd-R-Lozano/OOP-58001/blob/main/Control_Structure.ipynb\" target=\"_parent\"><img src=\"https://colab.research.google.com/assets/colab-badge.svg\" alt=\"Open In Colab\"/></a>"
      ]
    },
    {
      "cell_type": "markdown",
      "source": [
        "**Conditional Statement**\n",
        "\n",
        "\n",
        "\n",
        "\n",
        "\n",
        "\n",
        "\n",
        "\n",
        "\n",
        "\n"
      ],
      "metadata": {
        "id": "OeG0Lb-pDv7z"
      }
    },
    {
      "cell_type": "markdown",
      "source": [
        "If Statement"
      ],
      "metadata": {
        "id": "55CNBZweHmuu"
      }
    },
    {
      "cell_type": "code",
      "source": [
        "a = 12\n",
        "b = 100\n",
        "if b>a:\n",
        "  print(\"b is greater than a\")"
      ],
      "metadata": {
        "colab": {
          "base_uri": "https://localhost:8080/"
        },
        "id": "ItgV4eNyHs-W",
        "outputId": "66494a6f-1b52-4150-90df-d7e603a27ac5"
      },
      "execution_count": 9,
      "outputs": [
        {
          "output_type": "stream",
          "name": "stdout",
          "text": [
            "b is greater than a\n"
          ]
        }
      ]
    },
    {
      "cell_type": "code",
      "execution_count": 10,
      "metadata": {
        "colab": {
          "base_uri": "https://localhost:8080/"
        },
        "id": "WiI_immpC-WS",
        "outputId": "774226df-b401-4e17-9e2a-1ca52855e715"
      },
      "outputs": [
        {
          "output_type": "stream",
          "name": "stdout",
          "text": [
            "five is greater than 2\n"
          ]
        }
      ],
      "source": [
        "#If Statement\n",
        "if 5>2:\n",
        "  print(\"five is greater than 2\")"
      ]
    },
    {
      "cell_type": "code",
      "source": [
        "x = input()\n",
        "y = input()\n",
        "\n",
        "if x>y:\n",
        "  print(x +\" is greater than \" + y)"
      ],
      "metadata": {
        "colab": {
          "base_uri": "https://localhost:8080/"
        },
        "id": "x1jE3A5zGCj_",
        "outputId": "0316b8b7-0f5e-4042-d011-87a097572c6b"
      },
      "execution_count": 8,
      "outputs": [
        {
          "output_type": "stream",
          "name": "stdout",
          "text": [
            "5\n",
            "2\n",
            "5 is greater than 2\n"
          ]
        }
      ]
    },
    {
      "cell_type": "markdown",
      "source": [
        "Elif Statement"
      ],
      "metadata": {
        "id": "F0HjHbp9EqP6"
      }
    },
    {
      "cell_type": "code",
      "source": [
        "a = 12\n",
        "b = 12\n",
        "if b > a:\n",
        "  print(\"b is greater than a\")\n",
        "elif a == b:\n",
        "  print(\"a and b are equal\")\n"
      ],
      "metadata": {
        "colab": {
          "base_uri": "https://localhost:8080/"
        },
        "id": "VraqF5lQEDLo",
        "outputId": "89ecfcab-5cd2-4f8c-8514-a8dc6bfba255"
      },
      "execution_count": 3,
      "outputs": [
        {
          "output_type": "stream",
          "name": "stdout",
          "text": [
            "a and b are equal\n"
          ]
        }
      ]
    },
    {
      "cell_type": "code",
      "source": [
        "#Elif statement\n",
        "\n",
        "a = 100\n",
        "b = 50\n",
        "\n",
        "if a>b:\n",
        "  print(\"a is greater than b\")\n",
        "elif b>a:\n",
        "  print(\"b is greater than a\")"
      ],
      "metadata": {
        "colab": {
          "base_uri": "https://localhost:8080/"
        },
        "id": "FUoXTkmUHdjP",
        "outputId": "8348f39c-0835-4a2f-951a-2ed6e6442f1c"
      },
      "execution_count": 16,
      "outputs": [
        {
          "output_type": "stream",
          "name": "stdout",
          "text": [
            "a is greater than b\n"
          ]
        }
      ]
    },
    {
      "cell_type": "markdown",
      "source": [
        "Else statement"
      ],
      "metadata": {
        "id": "N86isd-qFCpo"
      }
    },
    {
      "cell_type": "code",
      "source": [
        "#Else statement\n",
        "if a>b:\n",
        "  print(\"a is greater than b\")\n",
        "elif b>a:\n",
        "  print(\"b is greater than a\")\n",
        "else:\n",
        "  print(\"a and b are equal\")\n"
      ],
      "metadata": {
        "colab": {
          "base_uri": "https://localhost:8080/"
        },
        "id": "2BsqZNPWIAbF",
        "outputId": "dea7d56f-568e-4449-e52a-713a63345cc2"
      },
      "execution_count": 17,
      "outputs": [
        {
          "output_type": "stream",
          "name": "stdout",
          "text": [
            "a is greater than b\n"
          ]
        }
      ]
    },
    {
      "cell_type": "markdown",
      "source": [
        "Nested If"
      ],
      "metadata": {
        "id": "vP3Mq4C-IpoW"
      }
    },
    {
      "cell_type": "code",
      "source": [
        "x = int(input())\n",
        "if x > 10:\n",
        "  print(\"Above ten,\")\n",
        "  if x > 20:\n",
        "    print(\"and also above 20\")\n",
        "    if x > 30:\n",
        "      print(\" and also above 30\")\n",
        "      if x > 40:\n",
        "        print(\" and also above 40\")\n",
        "        if x < 50:\n",
        "          print(\"but below 50\")\n",
        "        else: \n",
        "          print(\"and also above 50\")\n",
        "      else:\n",
        "        print(\"but below 40\")\n",
        "    else:\n",
        "      print(\"but below 30\")\n",
        "  else:\n",
        "    print(\"but below 20\")\n",
        "else:\n",
        "  print(\"Below ten\")\n",
        "  "
      ],
      "metadata": {
        "colab": {
          "base_uri": "https://localhost:8080/"
        },
        "id": "5pGDX2d9I58u",
        "outputId": "bf6b14d1-06ba-40aa-f5fb-e9df5df8d5b7"
      },
      "execution_count": 33,
      "outputs": [
        {
          "output_type": "stream",
          "name": "stdout",
          "text": [
            "51\n",
            "Above ten,\n",
            "and also above 20\n",
            " and also above 30\n",
            " and also above 40\n",
            "and also above 50\n"
          ]
        }
      ]
    },
    {
      "cell_type": "code",
      "source": [
        "age = int(input())\n",
        "if age>=18:\n",
        "  print(\"Qualified to vote!\")\n",
        "else: \n",
        "  print(\"Not qualified to vote!\")"
      ],
      "metadata": {
        "colab": {
          "base_uri": "https://localhost:8080/"
        },
        "id": "OiAfK44GOTcl",
        "outputId": "9a349663-de00-4951-cbd5-64889c794d65"
      },
      "execution_count": 49,
      "outputs": [
        {
          "output_type": "stream",
          "name": "stdout",
          "text": [
            "17\n",
            "Not qualified to vote!\n"
          ]
        }
      ]
    },
    {
      "cell_type": "code",
      "source": [
        "num = float(input())\n",
        "if num>0:\n",
        "    print(\"POSITIVE\")\n",
        "elif num<0:\n",
        "    print(\"NEGATIVE\")\n",
        "else:\n",
        "    print(\"ZERO\")"
      ],
      "metadata": {
        "colab": {
          "base_uri": "https://localhost:8080/"
        },
        "id": "w_0LF2ASPOw3",
        "outputId": "0bcf4a96-af34-4e9b-c0ff-0352d00fcd1d"
      },
      "execution_count": 96,
      "outputs": [
        {
          "output_type": "stream",
          "name": "stdout",
          "text": [
            "0\n",
            "ZERO\n"
          ]
        }
      ]
    },
    {
      "cell_type": "code",
      "source": [
        "grade = float(input())\n",
        "if grade >= 70 and grade<100:\n",
        "    print(\"Passed\")\n",
        "elif grade < 70  and grade >= 65:\n",
        "    print(\"Remedial\")\n",
        "elif grade < 65 and grade>= 0:\n",
        "    print(\"Failed\")\n",
        "else:\n",
        "    print(\"Invalid Grade\")\n"
      ],
      "metadata": {
        "colab": {
          "base_uri": "https://localhost:8080/"
        },
        "id": "AR7SFLqvMBaY",
        "outputId": "7cf2f9d7-df09-47f9-9193-75af356cf113"
      },
      "execution_count": 122,
      "outputs": [
        {
          "output_type": "stream",
          "name": "stdout",
          "text": [
            "69.99\n",
            "Remedial\n"
          ]
        }
      ]
    },
    {
      "cell_type": "code",
      "source": [
        "grade = float(input())\n",
        "if grade>=0:\n",
        "  if grade >= 65:\n",
        "    if grade >= 70:\n",
        "      print(\"Passed\")\n",
        "    else: \n",
        "      print(\"Remedial\")\n",
        "  else:\n",
        "    print(\"Failed\")\n",
        "else:\n",
        "  print(\"Invalid\")\n"
      ],
      "metadata": {
        "colab": {
          "base_uri": "https://localhost:8080/"
        },
        "id": "YUg2TKHDWla1",
        "outputId": "4509656b-7b56-433a-c6d4-60071506b0d0"
      },
      "execution_count": 112,
      "outputs": [
        {
          "output_type": "stream",
          "name": "stdout",
          "text": [
            "0\n",
            "Failed\n"
          ]
        }
      ]
    }
  ]
}