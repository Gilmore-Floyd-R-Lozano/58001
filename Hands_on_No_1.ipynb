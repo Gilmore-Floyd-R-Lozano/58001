{
  "nbformat": 4,
  "nbformat_minor": 0,
  "metadata": {
    "colab": {
      "provenance": [],
      "authorship_tag": "ABX9TyPYQQTarqYN19CXqlSEwN17",
      "include_colab_link": true
    },
    "kernelspec": {
      "name": "python3",
      "display_name": "Python 3"
    },
    "language_info": {
      "name": "python"
    }
  },
  "cells": [
    {
      "cell_type": "markdown",
      "metadata": {
        "id": "view-in-github",
        "colab_type": "text"
      },
      "source": [
        "<a href=\"https://colab.research.google.com/github/Gilmore-Floyd-R-Lozano/OOP-58001/blob/main/Hands_on_No_1.ipynb\" target=\"_parent\"><img src=\"https://colab.research.google.com/assets/colab-badge.svg\" alt=\"Open In Colab\"/></a>"
      ]
    },
    {
      "cell_type": "markdown",
      "source": [
        "Program #1"
      ],
      "metadata": {
        "id": "is0wJFMqsy-m"
      }
    },
    {
      "cell_type": "code",
      "execution_count": 40,
      "metadata": {
        "colab": {
          "base_uri": "https://localhost:8080/"
        },
        "id": "lWoIt_b6d9q6",
        "outputId": "e83207a3-104e-4350-ba2e-d88363a9d6ee"
      },
      "outputs": [
        {
          "output_type": "stream",
          "name": "stdout",
          "text": [
            "Enter Name of Student 1: Gilmore Floyd Lozano\n",
            "Enter Prelim Grades: 98\n",
            "Enter Midterm Grades: 99\n",
            "Enter Finals Grades: 100\n",
            "The average grade of Gilmore Floyd Lozano is 99.0 \n",
            "\n",
            "Enter Name of Student 2: Maria Rizette Sayo\n",
            "Enter Prelim Grades: 100\n",
            "Enter Midterm Grades: 100\n",
            "Enter Finals Grades: 100\n",
            "The average grade of Maria Rizette Sayo is 100.0 \n",
            "\n",
            "Enter Name of Student 3: Juan Two Three\n",
            "Enter Prelim Grades: 3\n",
            "Enter Midterm Grades: 6\n",
            "Enter Finals Grades: 90\n",
            "The average grade of Juan Two Three is 33.0 \n",
            "\n"
          ]
        }
      ],
      "source": [
        "class Person():\n",
        "  def __init__ (self,std1,std2,std3,pre,mid,fin):\n",
        "    self._std1=std1\n",
        "    self._std2=std2\n",
        "    self._std3=std3\n",
        "    self._pre = pre\n",
        "    self._mid = mid\n",
        "    self._fin = fin\n",
        "\n",
        "\n",
        "  def Grade(self):\n",
        "    Average = (self._pre + self._mid + self._fin)/3\n",
        "    print (\"The average grade of\", self._std1 + self._std2 + self._std3,\"is\" ,Average,\"\\n\")\n",
        "   \n",
        "\n",
        "student1=Person(input(\"Enter Name of Student 1: \"),\"\",\"\",float(input(\"Enter Prelim Grades: \")),float(input(\"Enter Midterm Grades: \")),float(input(\"Enter Finals Grades: \")))\n",
        "student1.Grade()\n",
        "student2=Person(\"\",input(\"Enter Name of Student 2: \"),\"\",float(input(\"Enter Prelim Grades: \")),float(input(\"Enter Midterm Grades: \")),float(input(\"Enter Finals Grades: \")))\n",
        "student2.Grade()\n",
        "student3=Person(\"\",\"\",input(\"Enter Name of Student 3: \"),float(input(\"Enter Prelim Grades: \")),float(input(\"Enter Midterm Grades: \")),float(input(\"Enter Finals Grades: \")))\n",
        "student3.Grade()\n",
        "\n",
        "\n"
      ]
    },
    {
      "cell_type": "markdown",
      "source": [
        "Program #2"
      ],
      "metadata": {
        "id": "GyYtD3rNs4St"
      }
    },
    {
      "cell_type": "code",
      "execution_count": null,
      "metadata": {
        "colab": {
          "base_uri": "https://localhost:8080/"
        },
        "outputId": "aa8f20a9-7232-415f-99fd-9976ee35e51c",
        "id": "H-Gv7i4RsxRu"
      },
      "outputs": [
        {
          "output_type": "stream",
          "name": "stdout",
          "text": [
            "Enter Name of Student: Gilmore Floyd Lozano\n",
            "Enter Prelim Grades: 100\n",
            "Enter Midterm Grades: 99\n",
            "Enter Finals Grades: 98\n",
            "The average grade of Gilmore Floyd Lozano is 99.0 \n",
            "\n",
            "Enter Name of Student: Maria Rizette Sayo\n",
            "Enter Prelim Grades: 100\n",
            "Enter Midterm Grades: 100\n",
            "Enter Finals Grades: 100\n",
            "The average grade of Maria Rizette Sayo is 100.0 \n",
            "\n",
            "Enter Name of Student: Juan Two Three\n",
            "Enter Prelim Grades: 3\n",
            "Enter Midterm Grades: 6\n",
            "Enter Finals Grades: 99\n",
            "The average grade of Juan Two Three is 36.0 \n",
            "\n"
          ]
        }
      ],
      "source": [
        "class Person():\n",
        "  def __init__ (self,name,pre,mid,fin):\n",
        "    self._name = name\n",
        "    self._pre = pre\n",
        "    self._mid = mid\n",
        "    self._fin = fin\n",
        "\n",
        "  def Grade(self):\n",
        "    Average = (self._pre + self._mid + self._fin)/3\n",
        "    print (\"The average grade of\",self._name, \"is\" ,Average,\"\\n\") \n",
        "\n",
        "class Student1(Person):\n",
        "  pass\n",
        "class Student2(Person):\n",
        "  pass\n",
        "class Student3(Person):\n",
        "  pass\n",
        " \n",
        "student=Student1(input(\"Enter Name of Student: \"),float(input(\"Enter Prelim Grades: \")),float(input(\"Enter Midterm Grades: \")),float(input(\"Enter Finals Grades: \")))\n",
        "student.Grade()\n",
        "student=Student2(input(\"Enter Name of Student: \"),float(input(\"Enter Prelim Grades: \")),float(input(\"Enter Midterm Grades: \")),float(input(\"Enter Finals Grades: \")))\n",
        "student.Grade()\n",
        "student=Student3(input(\"Enter Name of Student: \"),float(input(\"Enter Prelim Grades: \")),float(input(\"Enter Midterm Grades: \")),float(input(\"Enter Finals Grades: \")))\n",
        "student.Grade()\n",
        "\n",
        "\n"
      ]
    }
  ]
}