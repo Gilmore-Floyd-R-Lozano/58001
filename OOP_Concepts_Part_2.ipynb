{
  "nbformat": 4,
  "nbformat_minor": 0,
  "metadata": {
    "colab": {
      "provenance": [],
      "authorship_tag": "ABX9TyMvhCvHCcQsFYfjUgBps+ri",
      "include_colab_link": true
    },
    "kernelspec": {
      "name": "python3",
      "display_name": "Python 3"
    },
    "language_info": {
      "name": "python"
    }
  },
  "cells": [
    {
      "cell_type": "markdown",
      "metadata": {
        "id": "view-in-github",
        "colab_type": "text"
      },
      "source": [
        "<a href=\"https://colab.research.google.com/github/Gilmore-Floyd-R-Lozano/OOP-58001/blob/main/OOP_Concepts_Part_2.ipynb\" target=\"_parent\"><img src=\"https://colab.research.google.com/assets/colab-badge.svg\" alt=\"Open In Colab\"/></a>"
      ]
    },
    {
      "cell_type": "code",
      "execution_count": null,
      "metadata": {
        "colab": {
          "base_uri": "https://localhost:8080/"
        },
        "id": "vdoP_hq0WtAn",
        "outputId": "6d2ea5c6-6801-42a1-bf73-7b468cf01e75"
      },
      "outputs": [
        {
          "output_type": "stream",
          "name": "stdout",
          "text": [
            "Griffon Vulture flies above clouds\n",
            "Common Crane flies above clouds\n",
            "Emu is the national bird of Philipines\n"
          ]
        }
      ],
      "source": [
        "#Class with Multiple Objects\n",
        "class Birds:\n",
        "  def __init__(self,bird_name):\n",
        "    self.bird_name = bird_name\n",
        "  def flying_birds(self):\n",
        "    print(f\"{self.bird_name} flies above clouds\")\n",
        "  def non_flying_birds(self):\n",
        "    print(f\"{self.bird_name} is the national bird of Philipines\")\n",
        "\n",
        "vulture = Birds(\"Griffon Vulture\")\n",
        "crane = Birds(\"Common Crane\")\n",
        "emu = Birds(\"Emu\")\n",
        "\n",
        "vulture.flying_birds()\n",
        "crane.flying_birds()\n",
        "emu.non_flying_birds()\n"
      ]
    },
    {
      "cell_type": "code",
      "source": [
        "#Encapsulation\n",
        "class foo:\n",
        "  def __init__(self,a,b):\n",
        "    self._a=a\n",
        "    self._b=b\n",
        "  def add(self):\n",
        "    return self._a+self._b\n",
        "foo_object = foo(3,4)\n",
        "foo_object.a = 5\n",
        "foo_object.add()"
      ],
      "metadata": {
        "colab": {
          "base_uri": "https://localhost:8080/"
        },
        "id": "Eq403304ZJyF",
        "outputId": "f25af6d2-2830-4ab7-8b9e-38192d74264f"
      },
      "execution_count": null,
      "outputs": [
        {
          "output_type": "execute_result",
          "data": {
            "text/plain": [
              "7"
            ]
          },
          "metadata": {},
          "execution_count": 23
        }
      ]
    },
    {
      "cell_type": "code",
      "source": [
        "class Counter:\n",
        "  def __init__(self):\n",
        "    self.current = 0\n",
        "  def increment(self):\n",
        "    self.current +=1\n",
        "  def value(self):\n",
        "    print(self.current) \n",
        "  def reset(self):\n",
        "    self.current = 0  \n",
        "count_1 = Counter()\n",
        "count_2 = Counter()\n",
        "count_3 = Counter()\n",
        "count_1.increment()\n",
        "count_1.increment()\n",
        "count_1.increment()\n",
        "count_1.value()\n",
        "\n",
        "count_2.value()\n",
        "\n",
        "\n",
        "\n",
        "\n"
      ],
      "metadata": {
        "colab": {
          "base_uri": "https://localhost:8080/"
        },
        "id": "1mfT1YaDb_wi",
        "outputId": "bdcc50b9-e8f8-4627-ad28-e2e6fcfd88f4"
      },
      "execution_count": null,
      "outputs": [
        {
          "output_type": "stream",
          "name": "stdout",
          "text": [
            "3\n",
            "0\n"
          ]
        }
      ]
    },
    {
      "cell_type": "code",
      "source": [
        "class Counter:\n",
        "  def __init__(self):\n",
        "    self.current = 0\n",
        "  def increment(self):\n",
        "    self.current +=1\n",
        "  def value(self):\n",
        "    print(self.current)  #changed from return self.current to display not only the last value\n",
        "  def reset(self):\n",
        "    self.current = 0  \n",
        "count_1 = Counter()\n",
        "count_2 = Counter()\n",
        "count_3 = Counter()\n",
        "\n",
        "count_1.increment()\n",
        "count_1.increment()\n",
        "count_1.increment()\n",
        "count_1.reset()\n",
        "count_1.increment()\n",
        "count_1.value()\n",
        "\n",
        "count_2.increment()\n",
        "count_2.increment()\n",
        "count_2.value()\n",
        "\n",
        "count_3.reset()\n",
        "count_3.value()\n",
        "\n",
        "\n"
      ],
      "metadata": {
        "colab": {
          "base_uri": "https://localhost:8080/"
        },
        "outputId": "5db37859-089d-4b15-a181-95cf6a20f064",
        "id": "BMsimIuWgDKY"
      },
      "execution_count": null,
      "outputs": [
        {
          "output_type": "stream",
          "name": "stdout",
          "text": [
            "1\n",
            "2\n",
            "0\n"
          ]
        }
      ]
    },
    {
      "cell_type": "code",
      "source": [
        "#Inheritance\n",
        "class Person():\n",
        "  def __init__(self,name,birthdate):\n",
        "    self.name = name\n",
        "    self.birthdate = birthdate\n",
        "  def display(self):\n",
        "    print(\"My name is\", self.name)\n",
        "    print(\"My birthdate is\", self.birthdate)\n",
        "\n",
        "class Student(Person):\n",
        "  pass\n",
        "class Teacher(Person):\n",
        "  pass\n",
        "\n",
        "student = Student(\"Gilmore Floyd R. Lozano\",\"October 24, 2003\")\n",
        "student.display()\n",
        "teacher = Teacher(\"Maria Rizette Sayo\",\"January 3, 1984\")\n",
        "teacher.display()"
      ],
      "metadata": {
        "colab": {
          "base_uri": "https://localhost:8080/"
        },
        "id": "Rggrv5axevrn",
        "outputId": "01bfbb73-bc89-44b6-dd0b-082c8fa67a2e"
      },
      "execution_count": null,
      "outputs": [
        {
          "output_type": "stream",
          "name": "stdout",
          "text": [
            "My name is Gilmore Floyd R. Lozano\n",
            "My birthdate is October 24, 2003\n",
            "My name is Maria Rizette Sayo\n",
            "My birthdate is January 3, 1984\n"
          ]
        }
      ]
    },
    {
      "cell_type": "code",
      "source": [
        "#Create class name Shapes() (5 shapes)\n",
        "#attributes sides\n",
        "#create a function/method that diplays the number of sides of each shapes\n",
        "#apply inheritance and encapsulation\n",
        "class Shapes():\n",
        "  def __init__(self,name,sides):\n",
        "    self.name = name\n",
        "    self._sides = sides\n",
        "    \n",
        "  def display(self):\n",
        "    print(self.name,self._sides, \"sides\")\n",
        "\n",
        "class quadrilateral(Shapes):\n",
        "  pass\n",
        "class pentagon(Shapes):\n",
        "  pass\n",
        "class hexagon(Shapes):\n",
        "  pass\n",
        "class heptagon(Shapes):\n",
        "  pass\n",
        "class octagon(Shapes):\n",
        "  pass\n",
        "\n",
        "shape = quadrilateral(\"Quadrilateral:\", 4) \n",
        "shape.sides = 0\n",
        "shape.display()\n",
        "shape = pentagon(\"Pentagon:\",5)\n",
        "shape.sides = 3\n",
        "shape.display()\n",
        "shape = hexagon(\"Hexagon:\",6)\n",
        "shape.sides = -1\n",
        "shape.display()\n",
        "shape = heptagon(\"Heptagon:\",7)\n",
        "shape.sides = -5\n",
        "shape.display()\n",
        "shape = octagon(\"Octagon:\",8)\n",
        "shape.sides = -7\n",
        "shape.display()\n",
        "\n",
        "\n",
        "\n",
        "\n",
        "\n",
        "\n"
      ],
      "metadata": {
        "colab": {
          "base_uri": "https://localhost:8080/"
        },
        "id": "_8-FiANjbwbC",
        "outputId": "70cbf672-d4d9-43af-9726-d6665a9ca5bb"
      },
      "execution_count": null,
      "outputs": [
        {
          "output_type": "stream",
          "name": "stdout",
          "text": [
            "Quadrilateral: 4 sides\n",
            "Pentagon: 5 sides\n",
            "Hexagon: 6 sides\n",
            "Heptagon: 7 sides\n",
            "Octagon: 8 sides\n"
          ]
        }
      ]
    }
  ]
}