{
  "nbformat": 4,
  "nbformat_minor": 0,
  "metadata": {
    "colab": {
      "provenance": [],
      "authorship_tag": "ABX9TyODn1gPZR5UroDEO3P7nZAk",
      "include_colab_link": true
    },
    "kernelspec": {
      "name": "python3",
      "display_name": "Python 3"
    },
    "language_info": {
      "name": "python"
    }
  },
  "cells": [
    {
      "cell_type": "markdown",
      "metadata": {
        "id": "view-in-github",
        "colab_type": "text"
      },
      "source": [
        "<a href=\"https://colab.research.google.com/github/Gilmore-Floyd-R-Lozano/OOP-58001/blob/main/Fundamentals_of_Python.ipynb\" target=\"_parent\"><img src=\"https://colab.research.google.com/assets/colab-badge.svg\" alt=\"Open In Colab\"/></a>"
      ]
    },
    {
      "cell_type": "markdown",
      "source": [
        "Indentation\n"
      ],
      "metadata": {
        "id": "Zhcryt1TRR5A"
      }
    },
    {
      "cell_type": "code",
      "source": [
        "if 5>2:\n",
        "  print(\"Five is greater than two\")"
      ],
      "metadata": {
        "colab": {
          "base_uri": "https://localhost:8080/"
        },
        "id": "8yA4ZIe9Qy8g",
        "outputId": "f5e6b7ae-42eb-41e1-b780-86bfbd895845"
      },
      "execution_count": 4,
      "outputs": [
        {
          "output_type": "stream",
          "name": "stdout",
          "text": [
            "Five is greater than two\n"
          ]
        }
      ]
    },
    {
      "cell_type": "markdown",
      "source": [
        "Python Comment"
      ],
      "metadata": {
        "id": "r6WcSNCRSVYD"
      }
    },
    {
      "cell_type": "code",
      "source": [
        "#This is a comment\n",
        "print(\"Hello world!\")"
      ],
      "metadata": {
        "colab": {
          "base_uri": "https://localhost:8080/"
        },
        "id": "qrUtsfSfSXlz",
        "outputId": "b80fadb3-5bab-492a-d9ca-a4c48a37edb8"
      },
      "execution_count": 5,
      "outputs": [
        {
          "output_type": "stream",
          "name": "stdout",
          "text": [
            "Hello world!\n"
          ]
        }
      ]
    },
    {
      "cell_type": "markdown",
      "source": [
        "Phyton Variable"
      ],
      "metadata": {
        "id": "teXKAZ36TQBD"
      }
    },
    {
      "cell_type": "code",
      "source": [
        "#Single variable with single value\n",
        "x = 1\n",
        "\n",
        "#Single variable with multiple values\n",
        "array = [1,2,3]\n",
        "print (array)\n",
        "\n",
        "#Multiple variables with single value\n",
        "\n",
        "a = b = c = \"Maria\"\n",
        "print(a)\n",
        "print(b)\n",
        "print(c)\n",
        "\n"
      ],
      "metadata": {
        "colab": {
          "base_uri": "https://localhost:8080/"
        },
        "id": "oIn6yEoATR0T",
        "outputId": "df7aa630-970a-4d0c-e2a7-0a8123505a05"
      },
      "execution_count": 11,
      "outputs": [
        {
          "output_type": "stream",
          "name": "stdout",
          "text": [
            "[1, 2, 3]\n",
            "Maria\n",
            "Maria\n",
            "Maria\n"
          ]
        }
      ]
    },
    {
      "cell_type": "markdown",
      "source": [
        "Casting"
      ],
      "metadata": {
        "id": "0C7ncHKnVAYI"
      }
    },
    {
      "cell_type": "code",
      "source": [
        "n = int(4)\n",
        "print(n)"
      ],
      "metadata": {
        "colab": {
          "base_uri": "https://localhost:8080/"
        },
        "id": "ZNGqS3n0VDmp",
        "outputId": "4145909d-04b1-4f86-8f58-8cdda5ada0ca"
      },
      "execution_count": 15,
      "outputs": [
        {
          "output_type": "stream",
          "name": "stdout",
          "text": [
            "4\n"
          ]
        }
      ]
    },
    {
      "cell_type": "markdown",
      "source": [
        "Type() function"
      ],
      "metadata": {
        "id": "UuvchFUKVShB"
      }
    },
    {
      "cell_type": "code",
      "source": [
        "c = \"Sally\"\n",
        "d = 5.6\n",
        "\n",
        "print(type(c))\n",
        "print(type(d))"
      ],
      "metadata": {
        "colab": {
          "base_uri": "https://localhost:8080/"
        },
        "id": "g7CZqab0VUg5",
        "outputId": "f00c0bb1-a133-457e-bd68-f6d2cd1483f6"
      },
      "execution_count": 16,
      "outputs": [
        {
          "output_type": "stream",
          "name": "stdout",
          "text": [
            "<class 'str'>\n",
            "<class 'float'>\n"
          ]
        }
      ]
    }
  ]
}