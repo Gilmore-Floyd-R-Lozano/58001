{
  "cells": [
    {
      "cell_type": "markdown",
      "metadata": {
        "id": "view-in-github",
        "colab_type": "text"
      },
      "source": [
        "<a href=\"https://colab.research.google.com/github/Gilmore-Floyd-R-Lozano/OOP-58001/blob/main/Lab_Activity_2.ipynb\" target=\"_parent\"><img src=\"https://colab.research.google.com/assets/colab-badge.svg\" alt=\"Open In Colab\"/></a>"
      ]
    },
    {
      "cell_type": "code",
      "execution_count": 3,
      "metadata": {
        "colab": {
          "base_uri": "https://localhost:8080/"
        },
        "outputId": "14f47d52-3d08-4d2d-f475-1b8a47793ae1",
        "id": "hYvFW5Cd9oYL"
      },
      "outputs": [
        {
          "output_type": "stream",
          "name": "stdout",
          "text": [
            "Enter radius: 11.3\n",
            "The perimeter of the circle is 70.99999397112933 \n",
            "The area of the circle is 401.14996593688073\n"
          ]
        }
      ],
      "source": [
        "import math\n",
        "class Circle():\n",
        "  def __init__ (self, radius, pi):\n",
        "    self.radius = radius\n",
        "    self.pi = pi\n",
        "\n",
        "  def Perimeter(self):\n",
        "    return 2 * self.pi * self.radius\n",
        "\n",
        "  def Area(self):\n",
        "    return self.pi * self.radius ** 2\n",
        "\n",
        "  def Display(self):\n",
        "    print(\"The perimeter of the circle is\", self.Perimeter(), \"\\nThe area of the circle is\", self.Area())\n",
        "\n",
        "measurements = Circle(float(input(\"Enter radius: \")), math.pi)\n",
        "measurements.Display()"
      ]
    }
  ],
  "metadata": {
    "colab": {
      "provenance": [],
      "authorship_tag": "ABX9TyNlaVrEjrfM6rlw0qCrWH3g",
      "include_colab_link": true
    },
    "kernelspec": {
      "display_name": "Python 3",
      "name": "python3"
    },
    "language_info": {
      "name": "python"
    }
  },
  "nbformat": 4,
  "nbformat_minor": 0
}