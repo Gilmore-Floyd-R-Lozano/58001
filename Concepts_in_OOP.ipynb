{
  "nbformat": 4,
  "nbformat_minor": 0,
  "metadata": {
    "colab": {
      "provenance": [],
      "authorship_tag": "ABX9TyN+1fuoiELi/GprjAbnRel/",
      "include_colab_link": true
    },
    "kernelspec": {
      "name": "python3",
      "display_name": "Python 3"
    },
    "language_info": {
      "name": "python"
    }
  },
  "cells": [
    {
      "cell_type": "markdown",
      "metadata": {
        "id": "view-in-github",
        "colab_type": "text"
      },
      "source": [
        "<a href=\"https://colab.research.google.com/github/Gilmore-Floyd-R-Lozano/OOP-58001/blob/main/Concepts_in_OOP.ipynb\" target=\"_parent\"><img src=\"https://colab.research.google.com/assets/colab-badge.svg\" alt=\"Open In Colab\"/></a>"
      ]
    },
    {
      "cell_type": "code",
      "execution_count": null,
      "metadata": {
        "id": "XXBv-J_uO9Gm"
      },
      "outputs": [],
      "source": [
        "#Class Constructor\n",
        "class Car:\n",
        "  pass"
      ]
    },
    {
      "cell_type": "code",
      "source": [
        "#Create a Class\n",
        "class myNumber:\n",
        "  x=5\n",
        "\n",
        "num1 = myNumber()\n",
        "print(num1.x)\n"
      ],
      "metadata": {
        "colab": {
          "base_uri": "https://localhost:8080/"
        },
        "id": "s8qO0af1Pq-Q",
        "outputId": "810e0237-4159-4328-94e9-f34dfd4dc894"
      },
      "execution_count": null,
      "outputs": [
        {
          "output_type": "stream",
          "name": "stdout",
          "text": [
            "5\n"
          ]
        }
      ]
    },
    {
      "cell_type": "code",
      "source": [
        "class Person:\n",
        "  def __init__(self,name,age):\n",
        "    self.name = name\n",
        "    self.age = age\n",
        "  def myFunction(self):\n",
        "    print(\"Hello, my name is\",self.name)\n",
        "person = Person(\"Anna\",36)\n",
        "print(person.name)\n",
        "print(person.age)\n",
        "\n",
        " "
      ],
      "metadata": {
        "colab": {
          "base_uri": "https://localhost:8080/"
        },
        "id": "LPJ8dmwNQBBY",
        "outputId": "4ae6773a-d2e9-4558-9fc9-37bf35568b5b"
      },
      "execution_count": null,
      "outputs": [
        {
          "output_type": "stream",
          "name": "stdout",
          "text": [
            "Anna\n",
            "36\n"
          ]
        }
      ]
    },
    {
      "cell_type": "code",
      "source": [
        "class Person:\n",
        "  def __init__(self,name,age):\n",
        "    self.name = name\n",
        "    self.age = age\n",
        "  def myFunction(self):\n",
        "    print(\"Hello, my name is\",self.name)\n",
        "person = Person(\"Anna\",36)\n",
        "person.myFunction()\n"
      ],
      "metadata": {
        "colab": {
          "base_uri": "https://localhost:8080/"
        },
        "id": "Cdq524n9RQk3",
        "outputId": "1fc631a1-7510-4056-fc3d-198649865b52"
      },
      "execution_count": null,
      "outputs": [
        {
          "output_type": "stream",
          "name": "stdout",
          "text": [
            "Hello, my name is Anna\n"
          ]
        }
      ]
    },
    {
      "cell_type": "code",
      "source": [
        "#Modify the Object Properties\n",
        "person.name = \"Marco\"\n",
        "print(person.name)\n",
        "person.myFunction()"
      ],
      "metadata": {
        "colab": {
          "base_uri": "https://localhost:8080/"
        },
        "id": "1d3dmiRyRsjW",
        "outputId": "c2ff7ffa-296f-4b0e-c615-9f68d8aaebb2"
      },
      "execution_count": null,
      "outputs": [
        {
          "output_type": "stream",
          "name": "stdout",
          "text": [
            "Marco\n",
            "Hello, my name is Marco\n"
          ]
        }
      ]
    },
    {
      "cell_type": "code",
      "source": [
        "#Deletion of Object Properties\n",
        "\n",
        "del person.age\n",
        "person.myFunction()\n",
        "print(person.name)"
      ],
      "metadata": {
        "colab": {
          "base_uri": "https://localhost:8080/",
          "height": 235
        },
        "id": "vVwdMYjnR-nG",
        "outputId": "5cd02a0e-2978-4701-8e78-24f951aeb43c"
      },
      "execution_count": null,
      "outputs": [
        {
          "output_type": "error",
          "ename": "AttributeError",
          "evalue": "ignored",
          "traceback": [
            "\u001b[0;31m---------------------------------------------------------------------------\u001b[0m",
            "\u001b[0;31mAttributeError\u001b[0m                            Traceback (most recent call last)",
            "\u001b[0;32m<ipython-input-26-6e47faf4480f>\u001b[0m in \u001b[0;36m<module>\u001b[0;34m\u001b[0m\n\u001b[1;32m      1\u001b[0m \u001b[0;31m#Deletion of Object Properties\u001b[0m\u001b[0;34m\u001b[0m\u001b[0;34m\u001b[0m\u001b[0;34m\u001b[0m\u001b[0m\n\u001b[1;32m      2\u001b[0m \u001b[0;34m\u001b[0m\u001b[0m\n\u001b[0;32m----> 3\u001b[0;31m \u001b[0;32mdel\u001b[0m \u001b[0mperson\u001b[0m\u001b[0;34m.\u001b[0m\u001b[0mage\u001b[0m\u001b[0;34m\u001b[0m\u001b[0;34m\u001b[0m\u001b[0m\n\u001b[0m\u001b[1;32m      4\u001b[0m \u001b[0mperson\u001b[0m\u001b[0;34m.\u001b[0m\u001b[0mmyFunction\u001b[0m\u001b[0;34m(\u001b[0m\u001b[0;34m)\u001b[0m\u001b[0;34m\u001b[0m\u001b[0;34m\u001b[0m\u001b[0m\n\u001b[1;32m      5\u001b[0m \u001b[0mprint\u001b[0m\u001b[0;34m(\u001b[0m\u001b[0mperson\u001b[0m\u001b[0;34m.\u001b[0m\u001b[0mname\u001b[0m\u001b[0;34m)\u001b[0m\u001b[0;34m\u001b[0m\u001b[0;34m\u001b[0m\u001b[0m\n",
            "\u001b[0;31mAttributeError\u001b[0m: age"
          ]
        }
      ]
    },
    {
      "cell_type": "code",
      "source": [
        "#Compute for the Area of Square\n",
        "\n",
        "class Shapes:\n",
        "  def __init__(self,side):\n",
        "    self.side = side \n",
        "\n",
        "  def area(self):\n",
        "    return self.side * self.side\n",
        "\n",
        "  def display(self):\n",
        "    print(\"The area of the square is\", self.area())\n",
        "\n",
        "square = Shapes(4)\n",
        "square.display()\n"
      ],
      "metadata": {
        "colab": {
          "base_uri": "https://localhost:8080/"
        },
        "id": "Eu8YGU5eTDxj",
        "outputId": "c6de79d6-bdbd-4e15-8974-2528c0bdc4fa"
      },
      "execution_count": null,
      "outputs": [
        {
          "output_type": "stream",
          "name": "stdout",
          "text": [
            "The area of the square is 16\n"
          ]
        }
      ]
    },
    {
      "cell_type": "code",
      "source": [
        "#Creare a Phyton program with the following attributes:\n",
        "#Students as class name\n",
        "#Fullname, Student Number, and School as attribute names\n",
        "#Construct a method to display the values of attributes\n",
        "#Use student as object name\n",
        "\n",
        "class Student:\n",
        "  def __init__(self, Fullname, Student_Number, School):\n",
        "    self.Fullname = Fullname\n",
        "    self.Student_Number = Student_Number\n",
        "    self.School = School\n",
        "\n",
        "  def display(self):\n",
        "    print(\"Fullname:\", self.Fullname, \"\\nStudent_Number:\" ,self.Student_Number,  \"\\nSchool:\", self.School)\n",
        "student = Student(\"Gilmore Floyd R. Lozano\", 202214967, \"Adamson University\")    \n",
        "student.display()"
      ],
      "metadata": {
        "colab": {
          "base_uri": "https://localhost:8080/"
        },
        "id": "X-725gkXUZIF",
        "outputId": "3c06967d-138b-4e0c-ac09-af9194621bcf"
      },
      "execution_count": 7,
      "outputs": [
        {
          "output_type": "stream",
          "name": "stdout",
          "text": [
            "Fullname: Gilmore Floyd R. Lozano \n",
            "Student_Number: 202214967 \n",
            "School: Adamson University\n"
          ]
        }
      ]
    },
    {
      "cell_type": "code",
      "source": [],
      "metadata": {
        "id": "6PNqcERnch3Q"
      },
      "execution_count": null,
      "outputs": []
    },
    {
      "cell_type": "code",
      "source": [
        "#Creare a Phyton program with the following attributes:\n",
        "#Students as class name\n",
        "#Fullname, Student Number, and School as attribute names\n",
        "#Construct a method to display the values of attributes\n",
        "#Use student as object name\n",
        "\n",
        "class Student:\n",
        "  def __init__(self, Fullname, Student_Number, School):\n",
        "    self.Fullname = input(\"Fullname: \")\n",
        "    self.Student_Number = input(\"Student Number: \")\n",
        "    self.School = input(\"School: \")\n",
        "\n",
        "  def display(self):\n",
        "    print(\"\\nFullname:\", self.Fullname, \"\\nStudent_Number:\" ,self.Student_Number,  \"\\nSchool:\", self.School)\n",
        "student = Student(input,input,input)    \n",
        "student.display()"
      ],
      "metadata": {
        "colab": {
          "base_uri": "https://localhost:8080/"
        },
        "outputId": "ba4aebcb-3b42-4d52-a0d1-8becf37c4e17",
        "id": "L_VwhP7BcmXW"
      },
      "execution_count": 10,
      "outputs": [
        {
          "output_type": "stream",
          "name": "stdout",
          "text": [
            "Fullname: Gilmore Floyd R. Lozano\n",
            "Student Number: 202214967\n",
            "School: Adamson University\n",
            "\n",
            "Fullname: Gilmore Floyd R. Lozano \n",
            "Student_Number: 202214967 \n",
            "School: Adamson University\n"
          ]
        }
      ]
    }
  ]
}