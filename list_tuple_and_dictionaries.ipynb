{
  "nbformat": 4,
  "nbformat_minor": 0,
  "metadata": {
    "colab": {
      "provenance": [],
      "authorship_tag": "ABX9TyNFe9i5BRgBVfEbY/Gc6XS3",
      "include_colab_link": true
    },
    "kernelspec": {
      "name": "python3",
      "display_name": "Python 3"
    },
    "language_info": {
      "name": "python"
    }
  },
  "cells": [
    {
      "cell_type": "markdown",
      "metadata": {
        "id": "view-in-github",
        "colab_type": "text"
      },
      "source": [
        "<a href=\"https://colab.research.google.com/github/Gilmore-Floyd-R-Lozano/OOP-58001/blob/main/list_tuple_and_dictionaries.ipynb\" target=\"_parent\"><img src=\"https://colab.research.google.com/assets/colab-badge.svg\" alt=\"Open In Colab\"/></a>"
      ]
    },
    {
      "cell_type": "markdown",
      "source": [
        "Functions"
      ],
      "metadata": {
        "id": "j98TWS6HKvHr"
      }
    },
    {
      "cell_type": "code",
      "source": [
        "def remainder(n,m):\n",
        "  while True:\n",
        "    if n-m < 0:\n",
        "      return n\n",
        "    else:\n",
        "      n = n - m\n",
        "remainder(10,4)"
      ],
      "metadata": {
        "colab": {
          "base_uri": "https://localhost:8080/"
        },
        "id": "ctFw5dfeKgur",
        "outputId": "60fbef67-0b9e-41a8-b195-cf493b604fa6"
      },
      "execution_count": null,
      "outputs": [
        {
          "output_type": "execute_result",
          "data": {
            "text/plain": [
              "2"
            ]
          },
          "metadata": {},
          "execution_count": 3
        }
      ]
    },
    {
      "cell_type": "code",
      "source": [
        "class Shapes:\n",
        "  def __init__(self,length,width):\n",
        "    self.length = length\n",
        "    self.width = width\n",
        "  def area(self):\n",
        "    return self.length*self.width\n",
        "rectangle = Shapes(10,5)\n",
        "rectangle.area()"
      ],
      "metadata": {
        "colab": {
          "base_uri": "https://localhost:8080/"
        },
        "id": "_bvZOuHmL7lL",
        "outputId": "8ae369f5-8ce7-409c-f57a-cfb6dc7b75a6"
      },
      "execution_count": null,
      "outputs": [
        {
          "output_type": "execute_result",
          "data": {
            "text/plain": [
              "50"
            ]
          },
          "metadata": {},
          "execution_count": 24
        }
      ]
    },
    {
      "cell_type": "code",
      "source": [
        "class Shapes:\n",
        "  def __init__(self,side):\n",
        "    self.side = side\n",
        " # def arearec(self):\n",
        "  #  return self.length*self.width\n",
        "  def areasqr(self):\n",
        "    return self.side**2\n",
        "#rectangle = Shapes(10,5)\n",
        "square = Shapes(5)\n",
        "#rectangle.area()\n",
        "square.areasqr()"
      ],
      "metadata": {
        "colab": {
          "base_uri": "https://localhost:8080/"
        },
        "id": "dZAS2_SWOaNs",
        "outputId": "6f16cc42-2c11-40b7-dec4-7169e9b2a20e"
      },
      "execution_count": null,
      "outputs": [
        {
          "output_type": "execute_result",
          "data": {
            "text/plain": [
              "25"
            ]
          },
          "metadata": {},
          "execution_count": 20
        }
      ]
    },
    {
      "cell_type": "code",
      "source": [
        "pow(10,2)\n",
        "array = [\"apple\",\"banana\",\"orange\"]\n",
        "array.insert(0,\"cherry\")\n",
        "print(array)"
      ],
      "metadata": {
        "colab": {
          "base_uri": "https://localhost:8080/"
        },
        "id": "RatG5KAxNi5t",
        "outputId": "99221360-2f83-4c78-820b-d94030e9df56"
      },
      "execution_count": null,
      "outputs": [
        {
          "output_type": "stream",
          "name": "stdout",
          "text": [
            "['cherry', 'apple', 'banana', 'orange']\n"
          ]
        }
      ]
    },
    {
      "cell_type": "code",
      "execution_count": null,
      "metadata": {
        "colab": {
          "base_uri": "https://localhost:8080/",
          "height": 35
        },
        "id": "BlSPui6YI_RA",
        "outputId": "10f0b0b4-4949-4497-b93a-c719650c478d"
      },
      "outputs": [
        {
          "output_type": "execute_result",
          "data": {
            "text/plain": [
              "'Gilmore Floyd 18'"
            ],
            "application/vnd.google.colaboratory.intrinsic+json": {
              "type": "string"
            }
          },
          "metadata": {},
          "execution_count": 42
        }
      ],
      "source": [
        "#create your own fucntion that will show your full name and age\n",
        "class Person:\n",
        "  def __init__(self,name,age):\n",
        "    self.name = name\n",
        "    self.age = age\n",
        "  def nameage(self):\n",
        "    return self.name+ self.age\n",
        "nameandage = Person (\"Gilmore Floyd\",\" 18\")\n",
        "nameandage.nameage()"
      ]
    },
    {
      "cell_type": "code",
      "source": [
        "#create your own fucntion that will show your full name and age\n",
        "class Person:\n",
        "  def __init__(self):\n",
        "    self.name = input('Enter Name: ')\n",
        "    self.age = input('Enter Age: ')\n",
        "  def nameage(self):\n",
        "    print(\"Name: \",self.name,\"\\n\" \"Age: \", self.age)\n",
        "nameandage = Person()\n",
        "nameandage.nameage()"
      ],
      "metadata": {
        "colab": {
          "base_uri": "https://localhost:8080/"
        },
        "id": "xTrDYq1URIOz",
        "outputId": "9e6598b4-453a-45fe-a7b0-a78b22be94ec"
      },
      "execution_count": null,
      "outputs": [
        {
          "output_type": "stream",
          "name": "stdout",
          "text": [
            "Enter Name: Gilmore Floyd R. Lozano\n",
            "Enter Age: 19\n",
            "Name:  Gilmore Floyd R. Lozano \n",
            "Age:  19\n"
          ]
        }
      ]
    },
    {
      "cell_type": "code",
      "source": [],
      "metadata": {
        "id": "WPs6cWVeXNG0"
      },
      "execution_count": null,
      "outputs": []
    },
    {
      "cell_type": "markdown",
      "source": [
        "List"
      ],
      "metadata": {
        "id": "IHbIskTwOLP8"
      }
    },
    {
      "cell_type": "code",
      "source": [
        "pi = 3.14159\n",
        "varList=['abc',1,'def',2]\n",
        "print(varList[0])\n",
        "varList.append('ghi')\n",
        "print(varList)\n",
        "varList.remove(2)\n",
        "print(varList)\n",
        "varList.insert(3,3)\n",
        "print(varList)"
      ],
      "metadata": {
        "colab": {
          "base_uri": "https://localhost:8080/"
        },
        "id": "CSnlwnRrXYlN",
        "outputId": "81571a9d-6cb5-43ea-9fa8-9e83c46db2f6"
      },
      "execution_count": null,
      "outputs": [
        {
          "output_type": "stream",
          "name": "stdout",
          "text": [
            "abc\n",
            "['abc', 1, 'def', 2, 'ghi']\n",
            "['abc', 1, 'def', 'ghi']\n",
            "['abc', 1, 'def', 3, 'ghi']\n"
          ]
        }
      ]
    },
    {
      "cell_type": "markdown",
      "source": [
        "Dictionaries"
      ],
      "metadata": {
        "id": "BSTVmBpeYT6k"
      }
    },
    {
      "cell_type": "code",
      "source": [
        "students = {\n",
        "    1:\"ana\",\n",
        "    2:\"billy\",\n",
        "    3:\"maria\",\n",
        "    4:\"joy\",\n",
        "    3:\"bessy\"\n",
        "}\n",
        "print (students)"
      ],
      "metadata": {
        "colab": {
          "base_uri": "https://localhost:8080/"
        },
        "id": "0qLgBuyiYVis",
        "outputId": "172e7cb2-c255-48e6-e357-a9b145f55088"
      },
      "execution_count": null,
      "outputs": [
        {
          "output_type": "stream",
          "name": "stdout",
          "text": [
            "{1: 'ana', 2: 'billy', 3: 'bessy', 4: 'joy'}\n"
          ]
        }
      ]
    }
  ]
}