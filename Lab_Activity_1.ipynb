{
  "nbformat": 4,
  "nbformat_minor": 0,
  "metadata": {
    "colab": {
      "provenance": [],
      "authorship_tag": "ABX9TyOH3lPOD90IocHxrRKFW4pr",
      "include_colab_link": true
    },
    "kernelspec": {
      "name": "python3",
      "display_name": "Python 3"
    },
    "language_info": {
      "name": "python"
    }
  },
  "cells": [
    {
      "cell_type": "markdown",
      "metadata": {
        "id": "view-in-github",
        "colab_type": "text"
      },
      "source": [
        "<a href=\"https://colab.research.google.com/github/Gilmore-Floyd-R-Lozano/OOP-58001/blob/main/Lab_Activity_1.ipynb\" target=\"_parent\"><img src=\"https://colab.research.google.com/assets/colab-badge.svg\" alt=\"Open In Colab\"/></a>"
      ]
    },
    {
      "cell_type": "code",
      "execution_count": 3,
      "metadata": {
        "colab": {
          "base_uri": "https://localhost:8080/"
        },
        "id": "nDnkcy0oLOnm",
        "outputId": "2b0fb029-6faf-4879-e5e3-0e8533f24bbd"
      },
      "outputs": [
        {
          "output_type": "stream",
          "name": "stdout",
          "text": [
            "Sum =  210\n",
            "Average =  10.5\n"
          ]
        }
      ],
      "source": [
        "n = 20\n",
        "total_numbers = n\n",
        "sum = 0\n",
        "average = 0\n",
        "while(n>=0):\n",
        "  sum +=n\n",
        "  n-=1\n",
        "print(\"Sum = \",sum)\n",
        "average = sum / total_numbers\n",
        "print(\"Average = \",average)\n"
      ]
    }
  ]
}